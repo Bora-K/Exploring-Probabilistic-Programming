{
 "cells": [
  {
   "cell_type": "code",
   "execution_count": 1,
   "metadata": {},
   "outputs": [],
   "source": [
    "using DataFrames, Random, Distributions, CSV\n",
    "\n",
    "Random.seed!(42)\n",
    "\n",
    "# Generate a DataFrame with 360 rows (4 Summers)\n",
    "n = 360\n",
    "df = DataFrame(ID = 1:n)\n",
    "\n",
    "# Generate normally distributed temperature data around 25 degrees Celsius\n",
    "df[!, \"Temperature\"] = 25 .+ randn(n) .* 2\n",
    "\n",
    "# Generate Is_Weekend boolean data\n",
    "is_weekend_long = repeat([false, false, false, false, false, true, true], Int(ceil(n / 7)))\n",
    "df[!, \"Is_Weekend\"] = is_weekend_long[1:n]\n",
    "\n",
    "# Generate dependent hours open data. If it's the weekend, the store is open for 10-11 hours. If it's a weekday, the store is open for 8-10 hours\n",
    "df[!, \"Hours_Open\"] = ifelse.(df[!, \"Is_Weekend\"], rand(10:11, n), rand(8:10, n))\n",
    "\n",
    "# Now we need to generate electricity usage (based on temperature and hours open) and ice cream sales (based on temperature, hours open, and whether it's the weekend)\n",
    "# But they need to be correlated with each other withoud being dependent on each other\n",
    "\n",
    "# Generate electricity usage data based on temperature and hours open\n",
    "df[!, \"Electricity_Usage\"] = 10 .+ (2 .+ randn(n) .* 0.2) .* df[!, \"Temperature\"] .+ (3 .+ randn(n) .* 0.5) .* df[!, \"Hours_Open\"]\n",
    "\n",
    "# Generate ice cream sales data based on temperature, hours open, and whether it's the weekend\n",
    "df[!, \"Ice_Cream_Sales\"] = round.(Int, 20 .+ 30 .* df[!, \"Temperature\"] .+ (25 .+ randn(n) .* 2) .* df[!, \"Hours_Open\"] .+ (100 .+ randn(n) .* 10) .* df[!, \"Is_Weekend\"]);"
   ]
  },
  {
   "cell_type": "code",
   "execution_count": 2,
   "metadata": {},
   "outputs": [],
   "source": [
    "# Write the DataFrame to a CSV file\n",
    "CSV.write(\"data/ice_cream_sales.csv\", df);"
   ]
  }
 ],
 "metadata": {
  "kernelspec": {
   "display_name": "Julia 1.9.3",
   "language": "julia",
   "name": "julia-1.9"
  },
  "language_info": {
   "file_extension": ".jl",
   "mimetype": "application/julia",
   "name": "julia",
   "version": "1.9.3"
  }
 },
 "nbformat": 4,
 "nbformat_minor": 2
}
