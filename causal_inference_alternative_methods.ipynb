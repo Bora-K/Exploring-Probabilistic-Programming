{
 "cells": [
  {
   "cell_type": "code",
   "execution_count": 25,
   "metadata": {},
   "outputs": [],
   "source": [
    "import pandas as pd\n",
    "import numpy as np\n",
    "from sklearn.linear_model import LinearRegression\n",
    "from scipy.stats import pearsonr\n",
    "from sklearn.model_selection import train_test_split\n",
    "from sklearn.metrics import mean_squared_error\n",
    "from math import sqrt\n",
    "import random\n",
    "from scipy import stats\n",
    "random.seed(42)"
   ]
  },
  {
   "cell_type": "code",
   "execution_count": 26,
   "metadata": {},
   "outputs": [
    {
     "data": {
      "text/html": [
       "<div>\n",
       "<style scoped>\n",
       "    .dataframe tbody tr th:only-of-type {\n",
       "        vertical-align: middle;\n",
       "    }\n",
       "\n",
       "    .dataframe tbody tr th {\n",
       "        vertical-align: top;\n",
       "    }\n",
       "\n",
       "    .dataframe thead th {\n",
       "        text-align: right;\n",
       "    }\n",
       "</style>\n",
       "<table border=\"1\" class=\"dataframe\">\n",
       "  <thead>\n",
       "    <tr style=\"text-align: right;\">\n",
       "      <th></th>\n",
       "      <th>ID</th>\n",
       "      <th>Temperature</th>\n",
       "      <th>Is_Weekend</th>\n",
       "      <th>Hours_Open</th>\n",
       "      <th>Electricity_Usage</th>\n",
       "      <th>Ice_Cream_Sales</th>\n",
       "    </tr>\n",
       "  </thead>\n",
       "  <tbody>\n",
       "    <tr>\n",
       "      <th>0</th>\n",
       "      <td>1</td>\n",
       "      <td>24.273285</td>\n",
       "      <td>False</td>\n",
       "      <td>10</td>\n",
       "      <td>92.118314</td>\n",
       "      <td>983</td>\n",
       "    </tr>\n",
       "    <tr>\n",
       "      <th>1</th>\n",
       "      <td>2</td>\n",
       "      <td>25.503474</td>\n",
       "      <td>False</td>\n",
       "      <td>9</td>\n",
       "      <td>83.917817</td>\n",
       "      <td>1018</td>\n",
       "    </tr>\n",
       "    <tr>\n",
       "      <th>2</th>\n",
       "      <td>3</td>\n",
       "      <td>24.370024</td>\n",
       "      <td>False</td>\n",
       "      <td>8</td>\n",
       "      <td>88.290617</td>\n",
       "      <td>951</td>\n",
       "    </tr>\n",
       "    <tr>\n",
       "      <th>3</th>\n",
       "      <td>4</td>\n",
       "      <td>24.377495</td>\n",
       "      <td>False</td>\n",
       "      <td>10</td>\n",
       "      <td>85.561865</td>\n",
       "      <td>1012</td>\n",
       "    </tr>\n",
       "    <tr>\n",
       "      <th>4</th>\n",
       "      <td>5</td>\n",
       "      <td>26.632614</td>\n",
       "      <td>False</td>\n",
       "      <td>8</td>\n",
       "      <td>94.404976</td>\n",
       "      <td>1010</td>\n",
       "    </tr>\n",
       "  </tbody>\n",
       "</table>\n",
       "</div>"
      ],
      "text/plain": [
       "   ID  Temperature  Is_Weekend  Hours_Open  Electricity_Usage  Ice_Cream_Sales\n",
       "0   1    24.273285       False          10          92.118314              983\n",
       "1   2    25.503474       False           9          83.917817             1018\n",
       "2   3    24.370024       False           8          88.290617              951\n",
       "3   4    24.377495       False          10          85.561865             1012\n",
       "4   5    26.632614       False           8          94.404976             1010"
      ]
     },
     "execution_count": 26,
     "metadata": {},
     "output_type": "execute_result"
    }
   ],
   "source": [
    "data = pd.read_csv(\"../../data/ice_cream_sales.csv\")\n",
    "data.head()"
   ]
  },
  {
   "cell_type": "code",
   "execution_count": 27,
   "metadata": {},
   "outputs": [
    {
     "data": {
      "text/plain": [
       "(0.6627341330556741, 6.8575705768942765e-47)"
      ]
     },
     "execution_count": 27,
     "metadata": {},
     "output_type": "execute_result"
    }
   ],
   "source": [
    "pearsonr(data[\"Temperature\"], data[\"Ice_Cream_Sales\"])"
   ]
  },
  {
   "cell_type": "code",
   "execution_count": 28,
   "metadata": {},
   "outputs": [],
   "source": [
    "X = data.drop([\"Ice_Cream_Sales\", \"Is_Weekend\", \"ID\"], axis=1)\n",
    "y = data[\"Ice_Cream_Sales\"]\n",
    "\n",
    "X_train, X_test, y_train, y_test = train_test_split(X, y, test_size=0.2, random_state=42)"
   ]
  },
  {
   "cell_type": "code",
   "execution_count": 29,
   "metadata": {},
   "outputs": [
    {
     "name": "stdout",
     "output_type": "stream",
     "text": [
      "Root Mean Squared Error: 39.89084800825926\n"
     ]
    }
   ],
   "source": [
    "# Linear Regression Approach\n",
    "\n",
    "model = LinearRegression(fit_intercept=True)\n",
    "model.fit(X_train, y_train)\n",
    "y_pred = model.predict(X_test)\n",
    "mse = mean_squared_error(y_test, y_pred)\n",
    "print(f'Root Mean Squared Error: {sqrt(mse)}')"
   ]
  },
  {
   "cell_type": "code",
   "execution_count": 30,
   "metadata": {},
   "outputs": [
    {
     "name": "stdout",
     "output_type": "stream",
     "text": [
      "Intercept: -219.52018514362612\n",
      "Temperature: 29.57052887008028\n",
      "Hours_Open: 55.57459674364777\n",
      "Electricity_Usage: -0.08938301919533856\n"
     ]
    }
   ],
   "source": [
    "print(f'Intercept: {model.intercept_}')\n",
    "for i in range(len(X.columns)):\n",
    "    print(f'{X.columns[i]}: {model.coef_[i]}')"
   ]
  },
  {
   "cell_type": "code",
   "execution_count": 31,
   "metadata": {},
   "outputs": [],
   "source": [
    "# Intervention\n",
    "\n",
    "data[\"Electricity_Usage\"] = data[\"Electricity_Usage\"] + 20\n",
    "X = data.drop([\"Ice_Cream_Sales\", \"Is_Weekend\", \"ID\"], axis=1)\n",
    "y = data[\"Ice_Cream_Sales\"];"
   ]
  },
  {
   "cell_type": "code",
   "execution_count": 32,
   "metadata": {},
   "outputs": [
    {
     "name": "stdout",
     "output_type": "stream",
     "text": [
      "Root Mean Squared Error: 37.894286967083715\n"
     ]
    }
   ],
   "source": [
    "mse = mean_squared_error(y, model.predict(X))\n",
    "\n",
    "print(f'Root Mean Squared Error: {sqrt(mse)}')"
   ]
  },
  {
   "cell_type": "code",
   "execution_count": 33,
   "metadata": {},
   "outputs": [
    {
     "data": {
      "text/html": [
       "<div>\n",
       "<style scoped>\n",
       "    .dataframe tbody tr th:only-of-type {\n",
       "        vertical-align: middle;\n",
       "    }\n",
       "\n",
       "    .dataframe tbody tr th {\n",
       "        vertical-align: top;\n",
       "    }\n",
       "\n",
       "    .dataframe thead th {\n",
       "        text-align: right;\n",
       "    }\n",
       "</style>\n",
       "<table border=\"1\" class=\"dataframe\">\n",
       "  <thead>\n",
       "    <tr style=\"text-align: right;\">\n",
       "      <th></th>\n",
       "      <th>lower</th>\n",
       "      <th>upper</th>\n",
       "    </tr>\n",
       "  </thead>\n",
       "  <tbody>\n",
       "    <tr>\n",
       "      <th>const</th>\n",
       "      <td>-290.230979</td>\n",
       "      <td>-148.809391</td>\n",
       "    </tr>\n",
       "    <tr>\n",
       "      <th>Temperature</th>\n",
       "      <td>26.985475</td>\n",
       "      <td>32.155583</td>\n",
       "    </tr>\n",
       "    <tr>\n",
       "      <th>Hours_Open</th>\n",
       "      <td>50.812114</td>\n",
       "      <td>60.337080</td>\n",
       "    </tr>\n",
       "    <tr>\n",
       "      <th>Electricity_Usage</th>\n",
       "      <td>-0.703143</td>\n",
       "      <td>0.524377</td>\n",
       "    </tr>\n",
       "  </tbody>\n",
       "</table>\n",
       "</div>"
      ],
      "text/plain": [
       "                        lower       upper\n",
       "const             -290.230979 -148.809391\n",
       "Temperature         26.985475   32.155583\n",
       "Hours_Open          50.812114   60.337080\n",
       "Electricity_Usage   -0.703143    0.524377"
      ]
     },
     "execution_count": 33,
     "metadata": {},
     "output_type": "execute_result"
    }
   ],
   "source": [
    "alpha = 0.05\n",
    "coefs = np.r_[[model.intercept_], model.coef_]\n",
    "X_aux = X_train.copy()\n",
    "X_aux.insert(0, 'const', 1)\n",
    "# degrees of freedom\n",
    "dof = -np.diff(X_aux.shape)[0]\n",
    "# Student's t-distribution table lookup\n",
    "t_val = stats.t.isf(alpha/2, dof)\n",
    "# MSE of the residuals\n",
    "mse = np.sum((y_train - model.predict(X_train)) ** 2) / dof\n",
    "# inverse of the variance of the parameters\n",
    "var_params = np.diag(np.linalg.inv(X_aux.T.dot(X_aux)))\n",
    "# distance between lower and upper bound of CI\n",
    "gap = t_val * np.sqrt(mse * var_params)\n",
    "\n",
    "conf_int = pd.DataFrame({'lower': coefs - gap, 'upper': coefs + gap}, index=X_aux.columns)\n",
    "conf_int"
   ]
  },
  {
   "cell_type": "code",
   "execution_count": 34,
   "metadata": {},
   "outputs": [],
   "source": [
    "# Counterfactual\n",
    "\n",
    "data = pd.read_csv(\"../../data/ice_cream_sales.csv\")\n",
    "data[\"Ice_Cream_Sales\"] = data[\"Ice_Cream_Sales\"] + (30 - data[\"Temperature\"]) * 30\n",
    "data[\"Temperature\"] = 30\n",
    "X = data.drop([\"Ice_Cream_Sales\", \"Is_Weekend\", \"ID\"], axis=1)\n",
    "y = data[\"Ice_Cream_Sales\"]"
   ]
  },
  {
   "cell_type": "code",
   "execution_count": 35,
   "metadata": {},
   "outputs": [
    {
     "name": "stdout",
     "output_type": "stream",
     "text": [
      "Root Mean Squared Error: 37.92723693374946\n"
     ]
    }
   ],
   "source": [
    "mse = mean_squared_error(y, model.predict(X))\n",
    "\n",
    "print(f'Root Mean Squared Error: {sqrt(mse)}')"
   ]
  },
  {
   "cell_type": "code",
   "execution_count": 36,
   "metadata": {},
   "outputs": [
    {
     "data": {
      "text/html": [
       "<div>\n",
       "<style scoped>\n",
       "    .dataframe tbody tr th:only-of-type {\n",
       "        vertical-align: middle;\n",
       "    }\n",
       "\n",
       "    .dataframe tbody tr th {\n",
       "        vertical-align: top;\n",
       "    }\n",
       "\n",
       "    .dataframe thead th {\n",
       "        text-align: right;\n",
       "    }\n",
       "</style>\n",
       "<table border=\"1\" class=\"dataframe\">\n",
       "  <thead>\n",
       "    <tr style=\"text-align: right;\">\n",
       "      <th></th>\n",
       "      <th>lower</th>\n",
       "      <th>upper</th>\n",
       "    </tr>\n",
       "  </thead>\n",
       "  <tbody>\n",
       "    <tr>\n",
       "      <th>const</th>\n",
       "      <td>-290.230979</td>\n",
       "      <td>-148.809391</td>\n",
       "    </tr>\n",
       "    <tr>\n",
       "      <th>Temperature</th>\n",
       "      <td>26.985475</td>\n",
       "      <td>32.155583</td>\n",
       "    </tr>\n",
       "    <tr>\n",
       "      <th>Hours_Open</th>\n",
       "      <td>50.812114</td>\n",
       "      <td>60.337080</td>\n",
       "    </tr>\n",
       "    <tr>\n",
       "      <th>Electricity_Usage</th>\n",
       "      <td>-0.703143</td>\n",
       "      <td>0.524377</td>\n",
       "    </tr>\n",
       "  </tbody>\n",
       "</table>\n",
       "</div>"
      ],
      "text/plain": [
       "                        lower       upper\n",
       "const             -290.230979 -148.809391\n",
       "Temperature         26.985475   32.155583\n",
       "Hours_Open          50.812114   60.337080\n",
       "Electricity_Usage   -0.703143    0.524377"
      ]
     },
     "execution_count": 36,
     "metadata": {},
     "output_type": "execute_result"
    }
   ],
   "source": [
    "alpha = 0.05\n",
    "coefs = np.r_[[model.intercept_], model.coef_]\n",
    "X_aux = X_train.copy()\n",
    "X_aux.insert(0, 'const', 1)\n",
    "# degrees of freedom\n",
    "dof = -np.diff(X_aux.shape)[0]\n",
    "# Student's t-distribution table lookup\n",
    "t_val = stats.t.isf(alpha/2, dof)\n",
    "# MSE of the residuals\n",
    "mse = np.sum((y_train - model.predict(X_train)) ** 2) / dof\n",
    "# inverse of the variance of the parameters\n",
    "var_params = np.diag(np.linalg.inv(X_aux.T.dot(X_aux)))\n",
    "# distance between lower and upper bound of CI\n",
    "gap = t_val * np.sqrt(mse * var_params)\n",
    "\n",
    "conf_int = pd.DataFrame({'lower': coefs - gap, 'upper': coefs + gap}, index=X_aux.columns)\n",
    "conf_int"
   ]
  }
 ],
 "metadata": {
  "kernelspec": {
   "display_name": "thesis",
   "language": "python",
   "name": "python3"
  },
  "language_info": {
   "codemirror_mode": {
    "name": "ipython",
    "version": 3
   },
   "file_extension": ".py",
   "mimetype": "text/x-python",
   "name": "python",
   "nbconvert_exporter": "python",
   "pygments_lexer": "ipython3",
   "version": "3.9.12"
  }
 },
 "nbformat": 4,
 "nbformat_minor": 2
}
