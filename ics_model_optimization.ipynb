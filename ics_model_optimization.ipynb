{
 "cells": [
  {
   "cell_type": "code",
   "execution_count": 1,
   "metadata": {},
   "outputs": [
    {
     "name": "stderr",
     "output_type": "stream",
     "text": [
      "┌ Warning: The call to compilecache failed to create a usable precompiled cache file for NamedArrays [86f7a689-2022-50b4-a561-43c23ac3c673]\n",
      "│   exception = ErrorException(\"Required dependency DelimitedFiles [8bb1440f-4735-579b-a4ab-409b98df4dab] failed to load from a cache file.\")\n",
      "└ @ Base loading.jl:1818\n"
     ]
    },
    {
     "data": {
      "text/plain": [
       "6-element Vector{String}:\n",
       " \"ID\"\n",
       " \"Temperature\"\n",
       " \"Is_Weekend\"\n",
       " \"Hours_Open\"\n",
       " \"Electricity_Usage\"\n",
       " \"Ice_Cream_Sales\""
      ]
     },
     "metadata": {},
     "output_type": "display_data"
    }
   ],
   "source": [
    "using Turing, Distributions, CSV, DataFrames, Optim, StatsBase\n",
    "\n",
    "# Load data\n",
    "data = CSV.read(\"data/ice_cream_sales.csv\", DataFrame);\n",
    "names(data)"
   ]
  },
  {
   "cell_type": "code",
   "execution_count": 2,
   "metadata": {},
   "outputs": [],
   "source": [
    "#= Convert continous data to Float64\n",
    "And the categorical data to integers =#\n",
    "\n",
    "data[!, :Temperature] = convert(Array{Float64}, data[!, :Temperature])\n",
    "data[!, :Is_Weekend] = convert(Array{Int}, data[!, :Is_Weekend])\n",
    "data[!, :Hours_Open] = convert(Array{Int}, data[!, :Hours_Open])\n",
    "data[!, :Ice_Cream_Sales] = convert(Array{Float64}, data[!, :Ice_Cream_Sales])\n",
    "data[!, :Electricity_Usage] = convert(Array{Float64}, data[!, :Electricity_Usage]);"
   ]
  },
  {
   "cell_type": "code",
   "execution_count": 3,
   "metadata": {},
   "outputs": [],
   "source": [
    "# Get variables\n",
    "temperature = data[!, :Temperature]\n",
    "is_weekend = data[!, :Is_Weekend]\n",
    "hours_open = data[!, :Hours_Open]\n",
    "electricity_usage = data[!, :Electricity_Usage]\n",
    "ice_cream_sales = data[!, :Ice_Cream_Sales];"
   ]
  },
  {
   "cell_type": "code",
   "execution_count": 4,
   "metadata": {},
   "outputs": [
    {
     "data": {
      "text/plain": [
       "ice_cream_sales_model (generic function with 2 methods)"
      ]
     },
     "metadata": {},
     "output_type": "display_data"
    }
   ],
   "source": [
    "@model function ice_cream_sales_model(temperature, is_weekend, hours_open, electricity_usage, ice_cream_sales)\n",
    "    n = min(length(temperature), length(is_weekend), length(hours_open), length(electricity_usage), length(ice_cream_sales))\n",
    "\n",
    "    # The priors were started as (0,1) and iteratively adjusted using Optim.jl\n",
    "    α_ics ~ Normal(20, 1)\n",
    "    α_eu ~ Normal(10, 1)\n",
    "    β_temp_ics ~ Normal(30, 1)\n",
    "    β_hours_ics ~ Normal(25, 1)\n",
    "    β_weekend_ics ~ Normal(100, 1)\n",
    "    β_temp_eu ~ Normal(2, 1)\n",
    "    β_hours_eu ~ Normal(3, 1)\n",
    "    β_eu_ics ~ Normal(-0.13, 1) \n",
    "\n",
    "    for i in 1:n\n",
    "        # Priors for independent variables\n",
    "        temperature[i] ~ Normal(25, 2)\n",
    "        is_weekend[i] ~ Bernoulli(2/7)\n",
    "\n",
    "        # How each model is dependent on it's predecessors\n",
    "        if is_weekend[i] == 1\n",
    "            hours_open[i] ~ DiscreteUniform(10,11)\n",
    "        else\n",
    "            hours_open[i] ~ DiscreteUniform(8,10)\n",
    "        end\n",
    "\n",
    "        electricity_usage[i] ~ Normal(α_eu + temperature[i] * β_temp_eu + hours_open[i] * β_hours_eu, 1)\n",
    "        \n",
    "        # How the dependent variable is dependent on the independent variables\n",
    "        ice_cream_sales[i] ~ Normal(α_ics + temperature[i] * β_temp_ics + hours_open[i] * β_hours_ics + is_weekend[i] * β_weekend_ics\n",
    "         + electricity_usage[i] * β_eu_ics, 3)\n",
    "    end\n",
    "end"
   ]
  },
  {
   "cell_type": "code",
   "execution_count": 5,
   "metadata": {},
   "outputs": [
    {
     "data": {
      "text/plain": [
       "Gibbs{(:temperature, :electricity_usage, :ice_cream_sales, :is_weekend, :hours_open), Tuple{HMC{Turing.Essential.ForwardDiffAD{0}, (:temperature, :electricity_usage, :ice_cream_sales), AdvancedHMC.UnitEuclideanMetric}, PG{(:is_weekend, :hours_open), AdvancedPS.ResampleWithESSThreshold{typeof(AdvancedPS.resample_systematic), Float64}}}}((HMC{Turing.Essential.ForwardDiffAD{0}, (:temperature, :electricity_usage, :ice_cream_sales), AdvancedHMC.UnitEuclideanMetric}(0.01, 10), PG{(:is_weekend, :hours_open), AdvancedPS.ResampleWithESSThreshold{typeof(AdvancedPS.resample_systematic), Float64}}(10, AdvancedPS.ResampleWithESSThreshold{typeof(AdvancedPS.resample_systematic), Float64}(AdvancedPS.resample_systematic, 0.5))))"
      ]
     },
     "metadata": {},
     "output_type": "display_data"
    }
   ],
   "source": [
    "cont_sampler = HMC(0.01, 10, :temperature, :electricity_usage, :ice_cream_sales)\n",
    "disc_sampler = PG(10, :is_weekend, :hours_open)\n",
    "sampler = Gibbs(cont_sampler, disc_sampler)"
   ]
  },
  {
   "cell_type": "code",
   "execution_count": 6,
   "metadata": {},
   "outputs": [
    {
     "data": {
      "text/plain": [
       "DynamicPPL.Model{typeof(ice_cream_sales_model), (:temperature, :is_weekend, :hours_open, :electricity_usage, :ice_cream_sales), (), (), Tuple{Vector{Float64}, Vector{Int64}, Vector{Int64}, Vector{Float64}, Vector{Float64}}, Tuple{}, DynamicPPL.DefaultContext}(ice_cream_sales_model, (temperature = [24.273285037096446, 25.503474431148458, 24.37002405766209, 24.37749519735116, 26.632613529864656, 25.953476759663754, 23.280889235876757, 22.06142358898691, 20.77133033773803, 25.08756332406122  …  27.88968302198113, 22.020745012649975, 24.783201090136597, 21.12625085079417, 24.805501713106118, 20.97052730229581, 27.764905318715257, 21.868932876733844, 22.15767543558101, 24.99857631463805], is_weekend = [0, 0, 0, 0, 0, 1, 1, 0, 0, 0  …  0, 0, 0, 0, 0, 1, 1, 0, 0, 0], hours_open = [10, 9, 8, 10, 8, 11, 11, 8, 9, 10  …  9, 8, 10, 10, 9, 11, 11, 9, 8, 10], electricity_usage = [92.11831434065243, 83.91781748696985, 88.29061662682687, 85.5618654162385, 94.404976320194, 98.23792371386881, 86.5919633338461, 85.73695548415236, 84.63928092676501, 83.61593564313691  …  99.56271099890587, 76.4706206145493, 89.55295149298311, 72.2699582788947, 80.88052787405555, 103.17739012406682, 92.79240101984547, 89.82611366797212, 82.53449637881273, 97.7094309458657], ice_cream_sales = [983.0, 1018.0, 951.0, 1012.0, 1010.0, 1200.0, 1131.0, 883.0, 854.0, 991.0  …  1063.0, 901.0, 1026.0, 894.0, 958.0, 1036.0, 1220.0, 922.0, 874.0, 1023.0]), NamedTuple(), DynamicPPL.DefaultContext())"
      ]
     },
     "metadata": {},
     "output_type": "display_data"
    }
   ],
   "source": [
    "# Now let's try optim\n",
    "model_optim = ice_cream_sales_model(temperature, is_weekend, hours_open, electricity_usage, ice_cream_sales)"
   ]
  },
  {
   "cell_type": "code",
   "execution_count": 7,
   "metadata": {},
   "outputs": [
    {
     "name": "stdout",
     "output_type": "stream",
     "text": [
      "Iter     Function value   Gradient norm \n",
      "     0     1.192569e+06     7.053294e+05\n",
      " * time: 0.010756969451904297\n",
      " 10000     1.880141e+04     4.414033e-02\n",
      " * time: 2.355782985687256\n",
      " 20000     1.880141e+04     7.877583e-03\n",
      " * time: 4.214664936065674\n",
      " 30000     1.880141e+04     5.545849e-03\n",
      " * time: 5.953790903091431\n",
      " 40000     1.880141e+04     4.614464e-03\n",
      " * time: 7.709409952163696\n",
      " 50000     1.880141e+04     2.173154e-03\n",
      " * time: 9.418855905532837\n",
      " 60000     1.880141e+04     9.911990e-04\n",
      " * time: 11.069024801254272\n"
     ]
    },
    {
     "data": {
      "text/plain": [
       "ModeResult with maximized lp of -18801.41\n",
       "8-element Named Vector{Float64}\n",
       "A              │ \n",
       "───────────────┼──────────\n",
       ":α_ics         │    20.601\n",
       ":α_eu          │   9.70611\n",
       ":β_temp_ics    │   30.2174\n",
       ":β_hours_ics   │   25.7812\n",
       ":β_weekend_ics │   98.5197\n",
       ":β_temp_eu     │   2.01892\n",
       ":β_hours_eu    │   3.02148\n",
       ":β_eu_ics      │ -0.130024"
      ]
     },
     "metadata": {},
     "output_type": "display_data"
    }
   ],
   "source": [
    "map_estimate = optimize(model_optim, MAP(), AcceleratedGradientDescent(), Optim.Options(iterations=1000000, show_trace=true, show_every=10000))"
   ]
  }
 ],
 "metadata": {
  "kernelspec": {
   "display_name": "Julia 1.9.3",
   "language": "julia",
   "name": "julia-1.9"
  },
  "language_info": {
   "file_extension": ".jl",
   "mimetype": "application/julia",
   "name": "julia",
   "version": "1.9.3"
  }
 },
 "nbformat": 4,
 "nbformat_minor": 2
}
